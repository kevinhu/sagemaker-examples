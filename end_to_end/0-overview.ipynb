{
 "cells": [
  {
   "cell_type": "markdown",
   "metadata": {},
   "source": [
    "# SageMaker End to End Solutions: Fraud Detection for Automobile Claims"
   ]
  },
  {
   "cell_type": "markdown",
   "metadata": {},
   "source": [
    "<a id='overview-0'></a>\n",
    "\n",
    "## [Overview](./0-AutoClaimFraudDetection.ipynb)\n",
    "* **[Notebook 0 : Overview, Architecture, and Data Exploration](./0-AutoClaimFraudDetection.ipynb)**\n",
    "  * **[Business Problem](#business-problem)**\n",
    "  * **[Technical Solution](#nb0-solution)**\n",
    "  * **[Solution Components](#nb0-components)**\n",
    "  * **[Solution Architecture](#nb0-architecture)**\n",
    "  * **[DataSets and Exploratory Data Analysis](#nb0-data-explore)**\n",
    "  * **[Exploratory Data Science and Operational ML workflows](#nb0-workflows)**\n",
    "  * **[The ML Life Cycle: Detailed View](#nb0-ml-lifecycle)**\n",
    "* [Notebook 1: Data Prep, Process, Store Features](./1-data-prep-e2e.ipynb)\n",
    "  * Architecture\n",
    "  * Getting started\n",
    "  * DataSets\n",
    "  * SageMaker Feature Store\n",
    "  * Create train and test datasets\n",
    "* [Notebook 2: Train, Check Bias, Tune, Record Lineage, and Register a Model](./2-lineage-train-assess-bias-tune-registry-e2e.ipynb)\n",
    "  * Architecture\n",
    "  * Train a model using XGBoost\n",
    "  * Model lineage with artifacts and associations\n",
    "  * Evaluate the model for bias with Clarify\n",
    "  * Deposit Model and Lineage in SageMaker Model Registry\n",
    "* [Notebook 3: Mitigate Bias, Train New Model, Store in Registry](./3-mitigate-bias-train-model2-registry-e2e.ipynb)\n",
    "  * Architecture\n",
    "  * Develop a second model\n",
    "  * Analyze the Second Model for Bias\n",
    "  * View Results of Clarify Bias Detection Job\n",
    "  * Configure and Run Clarify Explainability Job\n",
    "  * Create Model Package for second trained model\n",
    "* [Notebook 4: Deploy Model, Run Predictions](./4-deploy-run-inference-e2e.ipynb)\n",
    "  * Architecture\n",
    "  * Deploy an approved model and Run Inference via Feature Store\n",
    "  * Create a Predictor\n",
    "  * Run  Predictions from Online FeatureStore\n",
    "* [Notebook 5 : Create and Run an End-to-End Pipeline to Deploy the Model](./5-pipeline-e2e.ipynb)\n",
    "  * Architecture\n",
    "  * Create an Automated Pipeline\n",
    "  * Clean up"
   ]
  },
  {
   "cell_type": "markdown",
   "metadata": {},
   "source": [
    "## Overview, Architecture, and Data Exploration\n",
    "\n",
    "In this overview notebook, we will address business problems regarding auto insurance fraud, technical solutions, explore dataset, solution architecture, and scope the machine learning (ML) life cycle."
   ]
  },
  {
   "cell_type": "markdown",
   "metadata": {},
   "source": [
    "<a id='business-problem'> </a>\n",
    "\n",
    "## Business Problem\n",
    "\n",
    "[overview](#overview-0)\n",
    "\n",
    "<i> \"Auto insurance fraud ranges from misrepresenting facts on insurance applications and inflating insurance claims to staging accidents and submitting claim forms for injuries or damage that never occurred, to false reports of stolen vehicles.\n",
    "Fraud accounted for between 15 percent and 17 percent of total claims payments for auto insurance bodily injury in 2012, according to an Insurance Research Council (IRC) study. The study estimated that between $\\$5.6$ billion and $\\$7.7$ billion was fraudulently added to paid claims for auto insurance bodily injury payments in 2012, compared with a range of $\\$4.3$ billion to $\\$5.8$ billion in 2002. </i>\" [source: Insurance Information Institute](https://www.iii.org/article/background-on-insurance-fraud)\n",
    "\n",
    "In this example, we will use an *auto insurance domain* to detect claims that are possibly fraudulent.  \n",
    "more precisley we address the use-case: <i> \"what is the likelihood that a given autoclaim is fraudulent?\" </i>, and explore the technical solution.  \n",
    "\n",
    "As you review the [notebooks](#nb0-notebooks) and the [architectures](#nb0-architecture) presented at each stage of the ML life cycle, you will see how you can leverage SageMaker services and features to enhance your effectiveness as a data scientist, as a machine learning engineer, and as an ML Ops Engineer.\n",
    "\n",
    "We will then do [data exploration](#nb0-data-explore) on the synthetically generated datasets for Customers and Claims.\n",
    "\n",
    "Then, we will provide an overview of the technical solution by examining the [Solution Components](#nb0-components) and the [Solution Architecture](#nb0-architecture).\n",
    "We will be motivated by the need to accomplish new tasks in ML by examining a [detailed view of the Machine Learning Life-cycle](#nb0-ml-lifecycle), recognizing the [separation of exploratory data science and operationalizing an ML worklfow](#nb0-workflows).\n"
   ]
  },
  {
   "cell_type": "markdown",
   "metadata": {},
   "source": [
    "### Car Insurance Claims: Data Sets and Problem Domain\n",
    "\n",
    "The inputs for building our model and workflow are two tables of insurance data: a claims table and a customers table. This data was synthetically generated is provided to you in its raw state for pre-processing with SageMaker Data Wrangler. However, completing the Data Wragnler step is not required to continue with the rest of this notebook. If you wish, you may use the `claims_preprocessed.csv` and `customers_preprocessed.csv` in the `data` directory as they are exact copies of what Data Wragnler would output."
   ]
  },
  {
   "cell_type": "markdown",
   "metadata": {},
   "source": [
    "<a id ='nb0-solution'> </a>\n",
    "\n",
    "## Technical Solution\n",
    "[overview](#overview-0)\n",
    "\n",
    "In this introduction, you will look at the technical architecture and solution components to build a solution for predicting fraudulent insurance claims and deploy it using SageMaker for real-time predictions. While a deployed model is the end-product of this notebook series, the purpose of this guide is to walk you through all the detailed stages of the [machine learning (ML) lifecycle](#ml-lifecycle) and show you what SageMaker servcies and features are there to support your activities in each stage.\n",
    "\n",
    "**Topics**\n",
    "- [Solution Components](#nb0-components)\n",
    "- [Solution Architecture](#nb0-architecture)\n",
    "- [Code Resources](#nb0-code)\n",
    "- [ML lifecycle details](#nb0-ml-lifecycle)\n",
    "- [Manual/exploratory and automated workflows](#nb0-workflows) "
   ]
  },
  {
   "cell_type": "markdown",
   "metadata": {},
   "source": [
    "<a id ='nb0-components'> </a>\n",
    "\n",
    "## Solution Components\n",
    "[overview](#overview-0)\n",
    "    \n",
    "The following [SageMaker](https://sagemaker.readthedocs.io/en/stable/v2.html) Services are used in this solution:\n",
    "\n",
    " 1. [SageMaker DataWrangler](https://aws.amazon.com/sagemaker/data-wrangler/) - [docs](https://docs.aws.amazon.com/sagemaker/latest/dg/data-wrangler.html)\n",
    " 1. [SageMaker Processing](https://aws.amazon.com/blogs/aws/amazon-sagemaker-processing-fully-managed-data-processing-and-model-evaluation/) - [docs](https://sagemaker.readthedocs.io/en/stable/amazon_sagemaker_processing.html)\n",
    " 1. [SageMaker Feature Store](https://aws.amazon.com/sagemaker/feature-store/)- [docs](https://sagemaker.readthedocs.io/en/stable/amazon_sagemaker_featurestore.html)\n",
    " 1. [SageMaker Clarify](https://aws.amazon.com/sagemaker/clarify/)- [docs](https://docs.aws.amazon.com/sagemaker/latest/dg/clarify-processing-job-run.html)\n",
    " 1. [SageMaker Training with XGBoost Algorithm and Hyperparameter Optimization](https://sagemaker.readthedocs.io/en/stable/frameworks/xgboost/using_xgboost.html)- [docs](https://sagemaker.readthedocs.io/en/stable/frameworks/xgboost/index.html)\n",
    " 1. [SageMaker Model Registry](https://docs.aws.amazon.com/sagemaker/latest/dg/model-registry.html)- [docs](https://docs.aws.amazon.com/sagemaker/latest/dg/model-registry-deploy.html#model-registry-deploy-api)\n",
    " 1. [SageMaker Hosted Endpoints]()- [predictors - docs](https://sagemaker.readthedocs.io/en/stable/api/inference/predictors.html)\n",
    " 1. [SageMaker Pipelines]()- [docs](https://sagemaker.readthedocs.io/en/stable/workflows/pipelines/index.html)"
   ]
  },
  {
   "cell_type": "markdown",
   "metadata": {},
   "source": [
    "![Solution Components](images/solution-components-e2e.png)"
   ]
  },
  {
   "cell_type": "markdown",
   "metadata": {},
   "source": [
    "<a id ='nb0-data-explore'> </a>\n",
    "\n",
    "## DataSets and Exploratory Visualizations\n",
    "[overview](#overview-0)\n",
    "\n",
    "The dataset is synthetically generated and consists of <font color='green'> customers and claims </font> datasets.\n",
    "Here we will load them and do some exploratory visualizations."
   ]
  },
  {
   "cell_type": "code",
   "execution_count": 1,
   "metadata": {
    "ExecuteTime": {
     "end_time": "2021-07-08T22:36:56.816241Z",
     "start_time": "2021-07-08T22:36:54.259082Z"
    }
   },
   "outputs": [
    {
     "name": "stdout",
     "output_type": "stream",
     "text": [
      "Requirement already satisfied: seaborn==0.11.1 in /Users/kevinhu/Library/Caches/pypoetry/virtualenvs/kevinhu-Rgu4vvcg-py3.8/lib/python3.8/site-packages (0.11.1)\n",
      "Requirement already satisfied: pandas>=0.23 in /Users/kevinhu/Library/Caches/pypoetry/virtualenvs/kevinhu-Rgu4vvcg-py3.8/lib/python3.8/site-packages (from seaborn==0.11.1) (1.2.3)\n",
      "Requirement already satisfied: scipy>=1.0 in /Users/kevinhu/Library/Caches/pypoetry/virtualenvs/kevinhu-Rgu4vvcg-py3.8/lib/python3.8/site-packages (from seaborn==0.11.1) (1.6.1)\n",
      "Requirement already satisfied: numpy>=1.15 in /Users/kevinhu/Library/Caches/pypoetry/virtualenvs/kevinhu-Rgu4vvcg-py3.8/lib/python3.8/site-packages (from seaborn==0.11.1) (1.20.2)\n",
      "Requirement already satisfied: matplotlib>=2.2 in /Users/kevinhu/Library/Caches/pypoetry/virtualenvs/kevinhu-Rgu4vvcg-py3.8/lib/python3.8/site-packages (from seaborn==0.11.1) (3.4.1)\n",
      "Requirement already satisfied: pyparsing>=2.2.1 in /Users/kevinhu/Library/Caches/pypoetry/virtualenvs/kevinhu-Rgu4vvcg-py3.8/lib/python3.8/site-packages (from matplotlib>=2.2->seaborn==0.11.1) (2.4.7)\n",
      "Requirement already satisfied: cycler>=0.10 in /Users/kevinhu/Library/Caches/pypoetry/virtualenvs/kevinhu-Rgu4vvcg-py3.8/lib/python3.8/site-packages (from matplotlib>=2.2->seaborn==0.11.1) (0.10.0)\n",
      "Requirement already satisfied: python-dateutil>=2.7 in /Users/kevinhu/Library/Caches/pypoetry/virtualenvs/kevinhu-Rgu4vvcg-py3.8/lib/python3.8/site-packages (from matplotlib>=2.2->seaborn==0.11.1) (2.8.1)\n",
      "Requirement already satisfied: pillow>=6.2.0 in /Users/kevinhu/Library/Caches/pypoetry/virtualenvs/kevinhu-Rgu4vvcg-py3.8/lib/python3.8/site-packages (from matplotlib>=2.2->seaborn==0.11.1) (8.2.0)\n",
      "Requirement already satisfied: kiwisolver>=1.0.1 in /Users/kevinhu/Library/Caches/pypoetry/virtualenvs/kevinhu-Rgu4vvcg-py3.8/lib/python3.8/site-packages (from matplotlib>=2.2->seaborn==0.11.1) (1.3.1)\n",
      "Requirement already satisfied: six in /Users/kevinhu/Library/Caches/pypoetry/virtualenvs/kevinhu-Rgu4vvcg-py3.8/lib/python3.8/site-packages (from cycler>=0.10->matplotlib>=2.2->seaborn==0.11.1) (1.16.0)\n",
      "Requirement already satisfied: pytz>=2017.3 in /Users/kevinhu/Library/Caches/pypoetry/virtualenvs/kevinhu-Rgu4vvcg-py3.8/lib/python3.8/site-packages (from pandas>=0.23->seaborn==0.11.1) (2021.1)\n",
      "\u001b[33mWARNING: You are using pip version 21.0.1; however, version 21.1.3 is available.\n",
      "You should consider upgrading via the '/Users/kevinhu/Library/Caches/pypoetry/virtualenvs/kevinhu-Rgu4vvcg-py3.8/bin/python -m pip install --upgrade pip' command.\u001b[0m\n"
     ]
    }
   ],
   "source": [
    "!pip install seaborn==0.11.1"
   ]
  },
  {
   "cell_type": "code",
   "execution_count": 2,
   "metadata": {
    "ExecuteTime": {
     "end_time": "2021-07-08T22:36:58.558887Z",
     "start_time": "2021-07-08T22:36:56.820305Z"
    }
   },
   "outputs": [],
   "source": [
    "# Importing required libraries.\n",
    "import pandas as pd\n",
    "import numpy as np\n",
    "import seaborn as sns  # visualisation\n",
    "import matplotlib.pyplot as plt  # visualisation\n",
    "\n",
    "%matplotlib inline\n",
    "sns.set(color_codes=True)\n",
    "\n",
    "df_claims = pd.read_csv(\"./data/claims_preprocessed.csv\", index_col=0)\n",
    "df_customers = pd.read_csv(\"./data/customers_preprocessed.csv\", index_col=0)"
   ]
  },
  {
   "cell_type": "code",
   "execution_count": 3,
   "metadata": {
    "ExecuteTime": {
     "end_time": "2021-07-08T22:36:58.566508Z",
     "start_time": "2021-07-08T22:36:58.561008Z"
    }
   },
   "outputs": [
    {
     "name": "stdout",
     "output_type": "stream",
     "text": [
      "0\n",
      "0\n"
     ]
    }
   ],
   "source": [
    "print(df_claims.isnull().sum().sum())\n",
    "print(df_customers.isnull().sum().sum())"
   ]
  },
  {
   "cell_type": "markdown",
   "metadata": {},
   "source": [
    "This should return no null values in both of the datasets."
   ]
  },
  {
   "cell_type": "code",
   "execution_count": 4,
   "metadata": {
    "ExecuteTime": {
     "end_time": "2021-07-08T22:36:58.756642Z",
     "start_time": "2021-07-08T22:36:58.568759Z"
    }
   },
   "outputs": [
    {
     "data": {
      "image/png": "[encoded data removed]",
      "text/plain": [
       "<Figure size 432x288 with 1 Axes>"
      ]
     },
     "metadata": {},
     "output_type": "display_data"
    }
   ],
   "source": [
    "# plot the bar graph customer gender\n",
    "df_customers.customer_gender_female.value_counts(normalize=True).plot.bar()\n",
    "plt.xticks([0, 1], [\"Male\", \"Female\"])"
   ]
  },
  {
   "cell_type": "markdown",
   "metadata": {},
   "source": [
    "The dataset is heavily weighted towards male customers."
   ]
  },
  {
   "cell_type": "code",
   "execution_count": 5,
   "metadata": {
    "ExecuteTime": {
     "end_time": "2021-07-08T22:36:58.877009Z",
     "start_time": "2021-07-08T22:36:58.758442Z"
    }
   },
   "outputs": [
    {
     "data": {
      "image/png": "[encoded data removed]",
      "text/plain": [
       "<Figure size 432x288 with 1 Axes>"
      ]
     },
     "metadata": {},
     "output_type": "display_data"
    }
   ],
   "source": [
    "# plot the bar graph of fraudulent claims\n",
    "df_claims.fraud.value_counts(normalize=True).plot.bar()\n",
    "plt.xticks([0, 1], [\"Not Fraud\", \"Fraud\"])"
   ]
  },
  {
   "cell_type": "markdown",
   "metadata": {},
   "source": [
    "The overwhemling majority of claims are legitimate (i.e. not fraudulent)."
   ]
  },
  {
   "cell_type": "code",
   "execution_count": 6,
   "metadata": {
    "ExecuteTime": {
     "end_time": "2021-07-08T22:36:59.028809Z",
     "start_time": "2021-07-08T22:36:58.878524Z"
    }
   },
   "outputs": [
    {
     "data": {
      "image/png": "[encoded data removed]",
      "text/plain": [
       "<Figure size 432x288 with 1 Axes>"
      ]
     },
     "metadata": {},
     "output_type": "display_data"
    }
   ],
   "source": [
    "# plot the education categories\n",
    "educ = df_customers.customer_education.value_counts(normalize=True, sort=False)\n",
    "plt.bar(educ.index, educ.values)\n",
    "plt.xlabel(\"Customer Education Level\");"
   ]
  },
  {
   "cell_type": "code",
   "execution_count": 7,
   "metadata": {
    "ExecuteTime": {
     "end_time": "2021-07-08T22:36:59.260564Z",
     "start_time": "2021-07-08T22:36:59.031058Z"
    }
   },
   "outputs": [
    {
     "data": {
      "text/plain": [
       "Text(0.5, 0, 'Total Claim Amount')"
      ]
     },
     "execution_count": 7,
     "metadata": {},
     "output_type": "execute_result"
    },
    {
     "data": {
      "image/png": "[encoded data removed]",
      "text/plain": [
       "<Figure size 432x288 with 1 Axes>"
      ]
     },
     "metadata": {},
     "output_type": "display_data"
    }
   ],
   "source": [
    "# plot the total claim amounts\n",
    "plt.hist(df_claims.total_claim_amount, bins=30)\n",
    "plt.xlabel(\"Total Claim Amount\")"
   ]
  },
  {
   "cell_type": "markdown",
   "metadata": {},
   "source": [
    "Majority of the total claim amounts are under $25,000."
   ]
  },
  {
   "cell_type": "code",
   "execution_count": 8,
   "metadata": {
    "ExecuteTime": {
     "end_time": "2021-07-08T22:36:59.466122Z",
     "start_time": "2021-07-08T22:36:59.264048Z"
    }
   },
   "outputs": [
    {
     "data": {
      "text/plain": [
       "Text(0.5, 0, 'Number of claims per year')"
      ]
     },
     "execution_count": 8,
     "metadata": {},
     "output_type": "execute_result"
    },
    {
     "data": {
      "image/png": "[encoded data removed]",
      "text/plain": [
       "<Figure size 432x288 with 1 Axes>"
      ]
     },
     "metadata": {},
     "output_type": "display_data"
    }
   ],
   "source": [
    "# plot the number of claims filed in the past year\n",
    "df_customers.num_claims_past_year.hist(density=True)\n",
    "plt.suptitle(\"Number of Claims in the Past Year\")\n",
    "plt.xlabel(\"Number of claims per year\")"
   ]
  },
  {
   "cell_type": "markdown",
   "metadata": {},
   "source": [
    "Most customers did not file any claims in the previous year, but some filed as many as 7 claims."
   ]
  },
  {
   "cell_type": "code",
   "execution_count": 9,
   "metadata": {
    "ExecuteTime": {
     "end_time": "2021-07-08T22:37:01.165810Z",
     "start_time": "2021-07-08T22:36:59.469041Z"
    }
   },
   "outputs": [
    {
     "data": {
      "image/png": "[encoded data removed]",
      "text/plain": [
       "<Figure size 540x540 with 12 Axes>"
      ]
     },
     "metadata": {},
     "output_type": "display_data"
    }
   ],
   "source": [
    "sns.pairplot(\n",
    "    data=df_customers,\n",
    "    vars=[\"num_insurers_past_5_years\", \"months_as_customer\", \"customer_age\"],\n",
    ");"
   ]
  },
  {
   "cell_type": "markdown",
   "metadata": {},
   "source": [
    "Understandably, the `months_as_customer` and `customer_age` are correlated with each other. A younger person have been driving for a smaller amount of time and therefore have a smaller potential for how long they might have been a customer.\n",
    "\n",
    "We can also see that the `num_insurers_past_5_years` is negatively correlated with `months_as_customer`. If someone frequently jumped around to different insurers, then they probably spent less time as a customer of this insurer."
   ]
  },
  {
   "cell_type": "code",
   "execution_count": 10,
   "metadata": {
    "ExecuteTime": {
     "end_time": "2021-07-08T22:37:01.574889Z",
     "start_time": "2021-07-08T22:37:01.167542Z"
    }
   },
   "outputs": [
    {
     "data": {
      "image/png": "[encoded data removed]",
      "text/plain": [
       "<Figure size 432x288 with 1 Axes>"
      ]
     },
     "metadata": {},
     "output_type": "display_data"
    }
   ],
   "source": [
    "df_combined = df_customers.join(df_claims)\n",
    "sns.lineplot(x=\"num_insurers_past_5_years\", y=\"fraud\", data=df_combined);"
   ]
  },
  {
   "cell_type": "markdown",
   "metadata": {},
   "source": [
    "Fraud is positively correlated with having a greater number of insurers over the past 5 years. Customers who switched insurers more frequently also had more prevelance of fraud."
   ]
  },
  {
   "cell_type": "code",
   "execution_count": 11,
   "metadata": {
    "ExecuteTime": {
     "end_time": "2021-07-08T22:37:01.712800Z",
     "start_time": "2021-07-08T22:37:01.577350Z"
    }
   },
   "outputs": [
    {
     "data": {
      "image/png": "[encoded data removed]",
      "text/plain": [
       "<Figure size 432x288 with 1 Axes>"
      ]
     },
     "metadata": {},
     "output_type": "display_data"
    }
   ],
   "source": [
    "sns.boxplot(x=df_customers[\"months_as_customer\"]);"
   ]
  },
  {
   "cell_type": "code",
   "execution_count": 12,
   "metadata": {
    "ExecuteTime": {
     "end_time": "2021-07-08T22:37:01.849396Z",
     "start_time": "2021-07-08T22:37:01.714275Z"
    }
   },
   "outputs": [
    {
     "data": {
      "image/png": "[encoded data removed]",
      "text/plain": [
       "<Figure size 432x288 with 1 Axes>"
      ]
     },
     "metadata": {},
     "output_type": "display_data"
    }
   ],
   "source": [
    "sns.boxplot(x=df_customers[\"customer_age\"]);"
   ]
  },
  {
   "cell_type": "markdown",
   "metadata": {},
   "source": [
    "Our customers range from 18 to 75 years old. "
   ]
  },
  {
   "cell_type": "code",
   "execution_count": 13,
   "metadata": {
    "ExecuteTime": {
     "end_time": "2021-07-08T22:37:01.999215Z",
     "start_time": "2021-07-08T22:37:01.851239Z"
    }
   },
   "outputs": [
    {
     "data": {
      "image/png": "[encoded data removed]",
      "text/plain": [
       "<Figure size 432x288 with 1 Axes>"
      ]
     },
     "metadata": {},
     "output_type": "display_data"
    }
   ],
   "source": [
    "df_combined.groupby(\"customer_gender_female\").mean()[\"fraud\"].plot.bar()\n",
    "plt.xticks([0, 1], [\"Male\", \"Female\"])\n",
    "plt.suptitle(\"Fraud by Gender\");"
   ]
  },
  {
   "cell_type": "markdown",
   "metadata": {},
   "source": [
    "Fraudulent claims come disproportionately from male customers."
   ]
  },
  {
   "cell_type": "code",
   "execution_count": 14,
   "metadata": {
    "ExecuteTime": {
     "end_time": "2021-07-08T22:37:02.317734Z",
     "start_time": "2021-07-08T22:37:02.001222Z"
    }
   },
   "outputs": [
    {
     "data": {
      "image/png": "[encoded data removed]",
      "text/plain": [
       "<Figure size 432x288 with 2 Axes>"
      ]
     },
     "metadata": {},
     "output_type": "display_data"
    }
   ],
   "source": [
    "# Creating a correlation matrix of fraud, gender, months as customer, and number of different insurers\n",
    "cols = [\n",
    "    \"fraud\",\n",
    "    \"customer_gender_male\",\n",
    "    \"customer_gender_female\",\n",
    "    \"months_as_customer\",\n",
    "    \"num_insurers_past_5_years\",\n",
    "]\n",
    "corr = df_combined[cols].corr()\n",
    "\n",
    "# plot the correlation matrix\n",
    "sns.heatmap(corr, annot=True, cmap=\"Reds\");"
   ]
  },
  {
   "cell_type": "markdown",
   "metadata": {},
   "source": [
    "Fraud is correlated with having more insurers in the past 5 years, and negatively correlated with being a customer for a longer period of time. These go hand in hand and mean that long time customers are less likely to commit fraud."
   ]
  },
  {
   "cell_type": "markdown",
   "metadata": {},
   "source": [
    "### Combined DataSets\n",
    "\n",
    "We have been looking at the indivudual datasets, now let's look at their combined view (join)."
   ]
  },
  {
   "cell_type": "code",
   "execution_count": 15,
   "metadata": {
    "ExecuteTime": {
     "end_time": "2021-07-08T22:37:02.384672Z",
     "start_time": "2021-07-08T22:37:02.319475Z"
    }
   },
   "outputs": [],
   "source": [
    "import pandas as pd\n",
    "\n",
    "df_combined = pd.read_csv(\"./data/claims_customer.csv\")"
   ]
  },
  {
   "cell_type": "code",
   "execution_count": 16,
   "metadata": {
    "ExecuteTime": {
     "end_time": "2021-07-08T22:37:02.411126Z",
     "start_time": "2021-07-08T22:37:02.386149Z"
    }
   },
   "outputs": [
    {
     "data": {
      "text/html": [
       "<div>\n",
       "<style scoped>\n",
       "    .dataframe tbody tr th:only-of-type {\n",
       "        vertical-align: middle;\n",
       "    }\n",
       "\n",
       "    .dataframe tbody tr th {\n",
       "        vertical-align: top;\n",
       "    }\n",
       "\n",
       "    .dataframe thead th {\n",
       "        text-align: right;\n",
       "    }\n",
       "</style>\n",
       "<table border=\"1\" class=\"dataframe\">\n",
       "  <thead>\n",
       "    <tr style=\"text-align: right;\">\n",
       "      <th></th>\n",
       "      <th>policy_id</th>\n",
       "      <th>incident_type_theft</th>\n",
       "      <th>policy_state_ca</th>\n",
       "      <th>policy_deductable</th>\n",
       "      <th>num_witnesses</th>\n",
       "      <th>policy_state_or</th>\n",
       "      <th>incident_month</th>\n",
       "      <th>customer_gender_female</th>\n",
       "      <th>num_insurers_past_5_years</th>\n",
       "      <th>customer_gender_male</th>\n",
       "      <th>...</th>\n",
       "      <th>policy_state_id</th>\n",
       "      <th>incident_hour</th>\n",
       "      <th>vehicle_claim</th>\n",
       "      <th>fraud</th>\n",
       "      <th>incident_type_collision</th>\n",
       "      <th>policy_annual_premium</th>\n",
       "      <th>policy_state_az</th>\n",
       "      <th>policy_state_wa</th>\n",
       "      <th>collision_type_rear</th>\n",
       "      <th>collision_type_front</th>\n",
       "    </tr>\n",
       "  </thead>\n",
       "  <tbody>\n",
       "    <tr>\n",
       "      <th>0</th>\n",
       "      <td>1675</td>\n",
       "      <td>0</td>\n",
       "      <td>0</td>\n",
       "      <td>750</td>\n",
       "      <td>0</td>\n",
       "      <td>0</td>\n",
       "      <td>2</td>\n",
       "      <td>0</td>\n",
       "      <td>1</td>\n",
       "      <td>0</td>\n",
       "      <td>...</td>\n",
       "      <td>0</td>\n",
       "      <td>20</td>\n",
       "      <td>12000.0</td>\n",
       "      <td>0</td>\n",
       "      <td>0</td>\n",
       "      <td>3000</td>\n",
       "      <td>1</td>\n",
       "      <td>0</td>\n",
       "      <td>0</td>\n",
       "      <td>0</td>\n",
       "    </tr>\n",
       "    <tr>\n",
       "      <th>1</th>\n",
       "      <td>9</td>\n",
       "      <td>0</td>\n",
       "      <td>0</td>\n",
       "      <td>750</td>\n",
       "      <td>0</td>\n",
       "      <td>0</td>\n",
       "      <td>9</td>\n",
       "      <td>0</td>\n",
       "      <td>1</td>\n",
       "      <td>1</td>\n",
       "      <td>...</td>\n",
       "      <td>0</td>\n",
       "      <td>15</td>\n",
       "      <td>18500.0</td>\n",
       "      <td>0</td>\n",
       "      <td>1</td>\n",
       "      <td>3000</td>\n",
       "      <td>0</td>\n",
       "      <td>0</td>\n",
       "      <td>0</td>\n",
       "      <td>0</td>\n",
       "    </tr>\n",
       "    <tr>\n",
       "      <th>2</th>\n",
       "      <td>1687</td>\n",
       "      <td>0</td>\n",
       "      <td>1</td>\n",
       "      <td>750</td>\n",
       "      <td>0</td>\n",
       "      <td>0</td>\n",
       "      <td>7</td>\n",
       "      <td>1</td>\n",
       "      <td>1</td>\n",
       "      <td>0</td>\n",
       "      <td>...</td>\n",
       "      <td>0</td>\n",
       "      <td>16</td>\n",
       "      <td>17500.0</td>\n",
       "      <td>0</td>\n",
       "      <td>1</td>\n",
       "      <td>3000</td>\n",
       "      <td>0</td>\n",
       "      <td>0</td>\n",
       "      <td>0</td>\n",
       "      <td>0</td>\n",
       "    </tr>\n",
       "    <tr>\n",
       "      <th>3</th>\n",
       "      <td>1687</td>\n",
       "      <td>0</td>\n",
       "      <td>1</td>\n",
       "      <td>750</td>\n",
       "      <td>0</td>\n",
       "      <td>0</td>\n",
       "      <td>7</td>\n",
       "      <td>0</td>\n",
       "      <td>1</td>\n",
       "      <td>1</td>\n",
       "      <td>...</td>\n",
       "      <td>0</td>\n",
       "      <td>16</td>\n",
       "      <td>17500.0</td>\n",
       "      <td>0</td>\n",
       "      <td>1</td>\n",
       "      <td>3000</td>\n",
       "      <td>0</td>\n",
       "      <td>0</td>\n",
       "      <td>0</td>\n",
       "      <td>0</td>\n",
       "    </tr>\n",
       "    <tr>\n",
       "      <th>4</th>\n",
       "      <td>1692</td>\n",
       "      <td>0</td>\n",
       "      <td>0</td>\n",
       "      <td>750</td>\n",
       "      <td>2</td>\n",
       "      <td>0</td>\n",
       "      <td>6</td>\n",
       "      <td>1</td>\n",
       "      <td>1</td>\n",
       "      <td>0</td>\n",
       "      <td>...</td>\n",
       "      <td>0</td>\n",
       "      <td>8</td>\n",
       "      <td>21500.0</td>\n",
       "      <td>0</td>\n",
       "      <td>1</td>\n",
       "      <td>2800</td>\n",
       "      <td>1</td>\n",
       "      <td>0</td>\n",
       "      <td>0</td>\n",
       "      <td>1</td>\n",
       "    </tr>\n",
       "  </tbody>\n",
       "</table>\n",
       "<p>5 rows × 47 columns</p>\n",
       "</div>"
      ],
      "text/plain": [
       "   policy_id  incident_type_theft  policy_state_ca  policy_deductable  \\\n",
       "0       1675                    0                0                750   \n",
       "1          9                    0                0                750   \n",
       "2       1687                    0                1                750   \n",
       "3       1687                    0                1                750   \n",
       "4       1692                    0                0                750   \n",
       "\n",
       "   num_witnesses  policy_state_or  incident_month  customer_gender_female  \\\n",
       "0              0                0               2                       0   \n",
       "1              0                0               9                       0   \n",
       "2              0                0               7                       1   \n",
       "3              0                0               7                       0   \n",
       "4              2                0               6                       1   \n",
       "\n",
       "   num_insurers_past_5_years  customer_gender_male  ...  policy_state_id  \\\n",
       "0                          1                     0  ...                0   \n",
       "1                          1                     1  ...                0   \n",
       "2                          1                     0  ...                0   \n",
       "3                          1                     1  ...                0   \n",
       "4                          1                     0  ...                0   \n",
       "\n",
       "   incident_hour  vehicle_claim  fraud  incident_type_collision  \\\n",
       "0             20        12000.0      0                        0   \n",
       "1             15        18500.0      0                        1   \n",
       "2             16        17500.0      0                        1   \n",
       "3             16        17500.0      0                        1   \n",
       "4              8        21500.0      0                        1   \n",
       "\n",
       "   policy_annual_premium  policy_state_az  policy_state_wa  \\\n",
       "0                   3000                1                0   \n",
       "1                   3000                0                0   \n",
       "2                   3000                0                0   \n",
       "3                   3000                0                0   \n",
       "4                   2800                1                0   \n",
       "\n",
       "   collision_type_rear  collision_type_front  \n",
       "0                    0                     0  \n",
       "1                    0                     0  \n",
       "2                    0                     0  \n",
       "3                    0                     0  \n",
       "4                    0                     1  \n",
       "\n",
       "[5 rows x 47 columns]"
      ]
     },
     "execution_count": 16,
     "metadata": {},
     "output_type": "execute_result"
    }
   ],
   "source": [
    "df_combined = df_combined.loc[:, ~df_combined.columns.str.contains(\"^Unnamed: 0\")]\n",
    "# get rid of an unwanted column\n",
    "df_combined.head()"
   ]
  },
  {
   "cell_type": "code",
   "execution_count": 17,
   "metadata": {
    "ExecuteTime": {
     "end_time": "2021-07-08T22:37:02.532234Z",
     "start_time": "2021-07-08T22:37:02.412520Z"
    }
   },
   "outputs": [
    {
     "data": {
      "text/html": [
       "<div>\n",
       "<style scoped>\n",
       "    .dataframe tbody tr th:only-of-type {\n",
       "        vertical-align: middle;\n",
       "    }\n",
       "\n",
       "    .dataframe tbody tr th {\n",
       "        vertical-align: top;\n",
       "    }\n",
       "\n",
       "    .dataframe thead th {\n",
       "        text-align: right;\n",
       "    }\n",
       "</style>\n",
       "<table border=\"1\" class=\"dataframe\">\n",
       "  <thead>\n",
       "    <tr style=\"text-align: right;\">\n",
       "      <th></th>\n",
       "      <th>policy_id</th>\n",
       "      <th>incident_type_theft</th>\n",
       "      <th>policy_state_ca</th>\n",
       "      <th>policy_deductable</th>\n",
       "      <th>num_witnesses</th>\n",
       "      <th>policy_state_or</th>\n",
       "      <th>incident_month</th>\n",
       "      <th>customer_gender_female</th>\n",
       "      <th>num_insurers_past_5_years</th>\n",
       "      <th>customer_gender_male</th>\n",
       "      <th>...</th>\n",
       "      <th>policy_state_id</th>\n",
       "      <th>incident_hour</th>\n",
       "      <th>vehicle_claim</th>\n",
       "      <th>fraud</th>\n",
       "      <th>incident_type_collision</th>\n",
       "      <th>policy_annual_premium</th>\n",
       "      <th>policy_state_az</th>\n",
       "      <th>policy_state_wa</th>\n",
       "      <th>collision_type_rear</th>\n",
       "      <th>collision_type_front</th>\n",
       "    </tr>\n",
       "  </thead>\n",
       "  <tbody>\n",
       "    <tr>\n",
       "      <th>count</th>\n",
       "      <td>20000.00000</td>\n",
       "      <td>20000.000000</td>\n",
       "      <td>20000.0000</td>\n",
       "      <td>20000.00000</td>\n",
       "      <td>20000.000000</td>\n",
       "      <td>20000.000000</td>\n",
       "      <td>20000.000000</td>\n",
       "      <td>20000.000000</td>\n",
       "      <td>20000.000000</td>\n",
       "      <td>20000.000000</td>\n",
       "      <td>...</td>\n",
       "      <td>20000.00000</td>\n",
       "      <td>20000.000000</td>\n",
       "      <td>20000.000000</td>\n",
       "      <td>20000.000000</td>\n",
       "      <td>20000.000000</td>\n",
       "      <td>20000.000000</td>\n",
       "      <td>20000.000000</td>\n",
       "      <td>20000.000000</td>\n",
       "      <td>20000.000000</td>\n",
       "      <td>20000.000000</td>\n",
       "    </tr>\n",
       "    <tr>\n",
       "      <th>mean</th>\n",
       "      <td>2500.50000</td>\n",
       "      <td>0.048200</td>\n",
       "      <td>0.6204</td>\n",
       "      <td>751.13000</td>\n",
       "      <td>0.866100</td>\n",
       "      <td>0.070000</td>\n",
       "      <td>6.713200</td>\n",
       "      <td>0.372400</td>\n",
       "      <td>1.412200</td>\n",
       "      <td>0.576500</td>\n",
       "      <td>...</td>\n",
       "      <td>0.02730</td>\n",
       "      <td>11.786800</td>\n",
       "      <td>17426.083700</td>\n",
       "      <td>0.030000</td>\n",
       "      <td>0.857200</td>\n",
       "      <td>2925.400000</td>\n",
       "      <td>0.113600</td>\n",
       "      <td>0.121000</td>\n",
       "      <td>0.220900</td>\n",
       "      <td>0.425400</td>\n",
       "    </tr>\n",
       "    <tr>\n",
       "      <th>std</th>\n",
       "      <td>1443.41173</td>\n",
       "      <td>0.214194</td>\n",
       "      <td>0.4853</td>\n",
       "      <td>13.57322</td>\n",
       "      <td>1.097921</td>\n",
       "      <td>0.255153</td>\n",
       "      <td>3.654396</td>\n",
       "      <td>0.483456</td>\n",
       "      <td>0.897291</td>\n",
       "      <td>0.494125</td>\n",
       "      <td>...</td>\n",
       "      <td>0.16296</td>\n",
       "      <td>5.337918</td>\n",
       "      <td>10043.773599</td>\n",
       "      <td>0.170591</td>\n",
       "      <td>0.349878</td>\n",
       "      <td>143.516096</td>\n",
       "      <td>0.317333</td>\n",
       "      <td>0.326135</td>\n",
       "      <td>0.414864</td>\n",
       "      <td>0.494416</td>\n",
       "    </tr>\n",
       "    <tr>\n",
       "      <th>min</th>\n",
       "      <td>1.00000</td>\n",
       "      <td>0.000000</td>\n",
       "      <td>0.0000</td>\n",
       "      <td>750.00000</td>\n",
       "      <td>0.000000</td>\n",
       "      <td>0.000000</td>\n",
       "      <td>1.000000</td>\n",
       "      <td>0.000000</td>\n",
       "      <td>1.000000</td>\n",
       "      <td>0.000000</td>\n",
       "      <td>...</td>\n",
       "      <td>0.00000</td>\n",
       "      <td>0.000000</td>\n",
       "      <td>1000.000000</td>\n",
       "      <td>0.000000</td>\n",
       "      <td>0.000000</td>\n",
       "      <td>2150.000000</td>\n",
       "      <td>0.000000</td>\n",
       "      <td>0.000000</td>\n",
       "      <td>0.000000</td>\n",
       "      <td>0.000000</td>\n",
       "    </tr>\n",
       "    <tr>\n",
       "      <th>25%</th>\n",
       "      <td>1250.75000</td>\n",
       "      <td>0.000000</td>\n",
       "      <td>0.0000</td>\n",
       "      <td>750.00000</td>\n",
       "      <td>0.000000</td>\n",
       "      <td>0.000000</td>\n",
       "      <td>3.000000</td>\n",
       "      <td>0.000000</td>\n",
       "      <td>1.000000</td>\n",
       "      <td>0.000000</td>\n",
       "      <td>...</td>\n",
       "      <td>0.00000</td>\n",
       "      <td>8.000000</td>\n",
       "      <td>10474.250000</td>\n",
       "      <td>0.000000</td>\n",
       "      <td>1.000000</td>\n",
       "      <td>2900.000000</td>\n",
       "      <td>0.000000</td>\n",
       "      <td>0.000000</td>\n",
       "      <td>0.000000</td>\n",
       "      <td>0.000000</td>\n",
       "    </tr>\n",
       "    <tr>\n",
       "      <th>50%</th>\n",
       "      <td>2500.50000</td>\n",
       "      <td>0.000000</td>\n",
       "      <td>1.0000</td>\n",
       "      <td>750.00000</td>\n",
       "      <td>0.000000</td>\n",
       "      <td>0.000000</td>\n",
       "      <td>7.000000</td>\n",
       "      <td>0.000000</td>\n",
       "      <td>1.000000</td>\n",
       "      <td>1.000000</td>\n",
       "      <td>...</td>\n",
       "      <td>0.00000</td>\n",
       "      <td>12.000000</td>\n",
       "      <td>15000.000000</td>\n",
       "      <td>0.000000</td>\n",
       "      <td>1.000000</td>\n",
       "      <td>3000.000000</td>\n",
       "      <td>0.000000</td>\n",
       "      <td>0.000000</td>\n",
       "      <td>0.000000</td>\n",
       "      <td>0.000000</td>\n",
       "    </tr>\n",
       "    <tr>\n",
       "      <th>75%</th>\n",
       "      <td>3750.25000</td>\n",
       "      <td>0.000000</td>\n",
       "      <td>1.0000</td>\n",
       "      <td>750.00000</td>\n",
       "      <td>2.000000</td>\n",
       "      <td>0.000000</td>\n",
       "      <td>10.000000</td>\n",
       "      <td>1.000000</td>\n",
       "      <td>1.000000</td>\n",
       "      <td>1.000000</td>\n",
       "      <td>...</td>\n",
       "      <td>0.00000</td>\n",
       "      <td>16.000000</td>\n",
       "      <td>22005.500000</td>\n",
       "      <td>0.000000</td>\n",
       "      <td>1.000000</td>\n",
       "      <td>3000.000000</td>\n",
       "      <td>0.000000</td>\n",
       "      <td>0.000000</td>\n",
       "      <td>0.000000</td>\n",
       "      <td>1.000000</td>\n",
       "    </tr>\n",
       "    <tr>\n",
       "      <th>max</th>\n",
       "      <td>5000.00000</td>\n",
       "      <td>1.000000</td>\n",
       "      <td>1.0000</td>\n",
       "      <td>1100.00000</td>\n",
       "      <td>5.000000</td>\n",
       "      <td>1.000000</td>\n",
       "      <td>12.000000</td>\n",
       "      <td>1.000000</td>\n",
       "      <td>5.000000</td>\n",
       "      <td>1.000000</td>\n",
       "      <td>...</td>\n",
       "      <td>1.00000</td>\n",
       "      <td>23.000000</td>\n",
       "      <td>51051.000000</td>\n",
       "      <td>1.000000</td>\n",
       "      <td>1.000000</td>\n",
       "      <td>3000.000000</td>\n",
       "      <td>1.000000</td>\n",
       "      <td>1.000000</td>\n",
       "      <td>1.000000</td>\n",
       "      <td>1.000000</td>\n",
       "    </tr>\n",
       "  </tbody>\n",
       "</table>\n",
       "<p>8 rows × 47 columns</p>\n",
       "</div>"
      ],
      "text/plain": [
       "         policy_id  incident_type_theft  policy_state_ca  policy_deductable  \\\n",
       "count  20000.00000         20000.000000       20000.0000        20000.00000   \n",
       "mean    2500.50000             0.048200           0.6204          751.13000   \n",
       "std     1443.41173             0.214194           0.4853           13.57322   \n",
       "min        1.00000             0.000000           0.0000          750.00000   \n",
       "25%     1250.75000             0.000000           0.0000          750.00000   \n",
       "50%     2500.50000             0.000000           1.0000          750.00000   \n",
       "75%     3750.25000             0.000000           1.0000          750.00000   \n",
       "max     5000.00000             1.000000           1.0000         1100.00000   \n",
       "\n",
       "       num_witnesses  policy_state_or  incident_month  customer_gender_female  \\\n",
       "count   20000.000000     20000.000000    20000.000000            20000.000000   \n",
       "mean        0.866100         0.070000        6.713200                0.372400   \n",
       "std         1.097921         0.255153        3.654396                0.483456   \n",
       "min         0.000000         0.000000        1.000000                0.000000   \n",
       "25%         0.000000         0.000000        3.000000                0.000000   \n",
       "50%         0.000000         0.000000        7.000000                0.000000   \n",
       "75%         2.000000         0.000000       10.000000                1.000000   \n",
       "max         5.000000         1.000000       12.000000                1.000000   \n",
       "\n",
       "       num_insurers_past_5_years  customer_gender_male  ...  policy_state_id  \\\n",
       "count               20000.000000          20000.000000  ...      20000.00000   \n",
       "mean                    1.412200              0.576500  ...          0.02730   \n",
       "std                     0.897291              0.494125  ...          0.16296   \n",
       "min                     1.000000              0.000000  ...          0.00000   \n",
       "25%                     1.000000              0.000000  ...          0.00000   \n",
       "50%                     1.000000              1.000000  ...          0.00000   \n",
       "75%                     1.000000              1.000000  ...          0.00000   \n",
       "max                     5.000000              1.000000  ...          1.00000   \n",
       "\n",
       "       incident_hour  vehicle_claim         fraud  incident_type_collision  \\\n",
       "count   20000.000000   20000.000000  20000.000000             20000.000000   \n",
       "mean       11.786800   17426.083700      0.030000                 0.857200   \n",
       "std         5.337918   10043.773599      0.170591                 0.349878   \n",
       "min         0.000000    1000.000000      0.000000                 0.000000   \n",
       "25%         8.000000   10474.250000      0.000000                 1.000000   \n",
       "50%        12.000000   15000.000000      0.000000                 1.000000   \n",
       "75%        16.000000   22005.500000      0.000000                 1.000000   \n",
       "max        23.000000   51051.000000      1.000000                 1.000000   \n",
       "\n",
       "       policy_annual_premium  policy_state_az  policy_state_wa  \\\n",
       "count           20000.000000     20000.000000     20000.000000   \n",
       "mean             2925.400000         0.113600         0.121000   \n",
       "std               143.516096         0.317333         0.326135   \n",
       "min              2150.000000         0.000000         0.000000   \n",
       "25%              2900.000000         0.000000         0.000000   \n",
       "50%              3000.000000         0.000000         0.000000   \n",
       "75%              3000.000000         0.000000         0.000000   \n",
       "max              3000.000000         1.000000         1.000000   \n",
       "\n",
       "       collision_type_rear  collision_type_front  \n",
       "count         20000.000000          20000.000000  \n",
       "mean              0.220900              0.425400  \n",
       "std               0.414864              0.494416  \n",
       "min               0.000000              0.000000  \n",
       "25%               0.000000              0.000000  \n",
       "50%               0.000000              0.000000  \n",
       "75%               0.000000              1.000000  \n",
       "max               1.000000              1.000000  \n",
       "\n",
       "[8 rows x 47 columns]"
      ]
     },
     "execution_count": 17,
     "metadata": {},
     "output_type": "execute_result"
    }
   ],
   "source": [
    "df_combined.describe()"
   ]
  },
  {
   "cell_type": "markdown",
   "metadata": {},
   "source": [
    "Let's explore any unique, missing, or large percentage category in the combined dataset."
   ]
  },
  {
   "cell_type": "code",
   "execution_count": 18,
   "metadata": {
    "ExecuteTime": {
     "end_time": "2021-07-08T22:37:02.610168Z",
     "start_time": "2021-07-08T22:37:02.533690Z"
    }
   },
   "outputs": [
    {
     "data": {
      "text/html": [
       "<div>\n",
       "<style scoped>\n",
       "    .dataframe tbody tr th:only-of-type {\n",
       "        vertical-align: middle;\n",
       "    }\n",
       "\n",
       "    .dataframe tbody tr th {\n",
       "        vertical-align: top;\n",
       "    }\n",
       "\n",
       "    .dataframe thead th {\n",
       "        text-align: right;\n",
       "    }\n",
       "</style>\n",
       "<table border=\"1\" class=\"dataframe\">\n",
       "  <thead>\n",
       "    <tr style=\"text-align: right;\">\n",
       "      <th></th>\n",
       "      <th>feature</th>\n",
       "      <th>unique_values</th>\n",
       "      <th>percent_missing</th>\n",
       "      <th>percent_largest_category</th>\n",
       "      <th>datatype</th>\n",
       "    </tr>\n",
       "  </thead>\n",
       "  <tbody>\n",
       "    <tr>\n",
       "      <th>3</th>\n",
       "      <td>policy_deductable</td>\n",
       "      <td>8</td>\n",
       "      <td>0.0</td>\n",
       "      <td>98.94</td>\n",
       "      <td>int64</td>\n",
       "    </tr>\n",
       "    <tr>\n",
       "      <th>28</th>\n",
       "      <td>authorities_contacted_ambulance</td>\n",
       "      <td>2</td>\n",
       "      <td>0.0</td>\n",
       "      <td>97.45</td>\n",
       "      <td>int64</td>\n",
       "    </tr>\n",
       "    <tr>\n",
       "      <th>37</th>\n",
       "      <td>policy_state_id</td>\n",
       "      <td>2</td>\n",
       "      <td>0.0</td>\n",
       "      <td>97.27</td>\n",
       "      <td>int64</td>\n",
       "    </tr>\n",
       "    <tr>\n",
       "      <th>35</th>\n",
       "      <td>authorities_contacted_fire</td>\n",
       "      <td>2</td>\n",
       "      <td>0.0</td>\n",
       "      <td>97.20</td>\n",
       "      <td>int64</td>\n",
       "    </tr>\n",
       "    <tr>\n",
       "      <th>40</th>\n",
       "      <td>fraud</td>\n",
       "      <td>2</td>\n",
       "      <td>0.0</td>\n",
       "      <td>97.00</td>\n",
       "      <td>int64</td>\n",
       "    </tr>\n",
       "    <tr>\n",
       "      <th>36</th>\n",
       "      <td>driver_relationship_other</td>\n",
       "      <td>2</td>\n",
       "      <td>0.0</td>\n",
       "      <td>96.06</td>\n",
       "      <td>int64</td>\n",
       "    </tr>\n",
       "    <tr>\n",
       "      <th>16</th>\n",
       "      <td>driver_relationship_child</td>\n",
       "      <td>2</td>\n",
       "      <td>0.0</td>\n",
       "      <td>95.49</td>\n",
       "      <td>int64</td>\n",
       "    </tr>\n",
       "    <tr>\n",
       "      <th>27</th>\n",
       "      <td>policy_state_nv</td>\n",
       "      <td>2</td>\n",
       "      <td>0.0</td>\n",
       "      <td>95.23</td>\n",
       "      <td>int64</td>\n",
       "    </tr>\n",
       "    <tr>\n",
       "      <th>1</th>\n",
       "      <td>incident_type_theft</td>\n",
       "      <td>2</td>\n",
       "      <td>0.0</td>\n",
       "      <td>95.18</td>\n",
       "      <td>int64</td>\n",
       "    </tr>\n",
       "    <tr>\n",
       "      <th>23</th>\n",
       "      <td>num_claims_past_year</td>\n",
       "      <td>8</td>\n",
       "      <td>0.0</td>\n",
       "      <td>93.28</td>\n",
       "      <td>int64</td>\n",
       "    </tr>\n",
       "    <tr>\n",
       "      <th>5</th>\n",
       "      <td>policy_state_or</td>\n",
       "      <td>2</td>\n",
       "      <td>0.0</td>\n",
       "      <td>93.00</td>\n",
       "      <td>int64</td>\n",
       "    </tr>\n",
       "    <tr>\n",
       "      <th>17</th>\n",
       "      <td>driver_relationship_spouse</td>\n",
       "      <td>2</td>\n",
       "      <td>0.0</td>\n",
       "      <td>91.09</td>\n",
       "      <td>int64</td>\n",
       "    </tr>\n",
       "    <tr>\n",
       "      <th>33</th>\n",
       "      <td>incident_type_breakin</td>\n",
       "      <td>2</td>\n",
       "      <td>0.0</td>\n",
       "      <td>90.54</td>\n",
       "      <td>int64</td>\n",
       "    </tr>\n",
       "    <tr>\n",
       "      <th>43</th>\n",
       "      <td>policy_state_az</td>\n",
       "      <td>2</td>\n",
       "      <td>0.0</td>\n",
       "      <td>88.64</td>\n",
       "      <td>int64</td>\n",
       "    </tr>\n",
       "    <tr>\n",
       "      <th>44</th>\n",
       "      <td>policy_state_wa</td>\n",
       "      <td>2</td>\n",
       "      <td>0.0</td>\n",
       "      <td>87.90</td>\n",
       "      <td>int64</td>\n",
       "    </tr>\n",
       "    <tr>\n",
       "      <th>20</th>\n",
       "      <td>collision_type_na</td>\n",
       "      <td>2</td>\n",
       "      <td>0.0</td>\n",
       "      <td>85.72</td>\n",
       "      <td>int64</td>\n",
       "    </tr>\n",
       "    <tr>\n",
       "      <th>32</th>\n",
       "      <td>driver_relationship_na</td>\n",
       "      <td>2</td>\n",
       "      <td>0.0</td>\n",
       "      <td>85.72</td>\n",
       "      <td>int64</td>\n",
       "    </tr>\n",
       "    <tr>\n",
       "      <th>41</th>\n",
       "      <td>incident_type_collision</td>\n",
       "      <td>2</td>\n",
       "      <td>0.0</td>\n",
       "      <td>85.72</td>\n",
       "      <td>int64</td>\n",
       "    </tr>\n",
       "    <tr>\n",
       "      <th>13</th>\n",
       "      <td>collision_type_side</td>\n",
       "      <td>2</td>\n",
       "      <td>0.0</td>\n",
       "      <td>78.91</td>\n",
       "      <td>int64</td>\n",
       "    </tr>\n",
       "    <tr>\n",
       "      <th>45</th>\n",
       "      <td>collision_type_rear</td>\n",
       "      <td>2</td>\n",
       "      <td>0.0</td>\n",
       "      <td>77.91</td>\n",
       "      <td>int64</td>\n",
       "    </tr>\n",
       "    <tr>\n",
       "      <th>8</th>\n",
       "      <td>num_insurers_past_5_years</td>\n",
       "      <td>5</td>\n",
       "      <td>0.0</td>\n",
       "      <td>77.68</td>\n",
       "      <td>int64</td>\n",
       "    </tr>\n",
       "    <tr>\n",
       "      <th>34</th>\n",
       "      <td>authorities_contacted_none</td>\n",
       "      <td>2</td>\n",
       "      <td>0.0</td>\n",
       "      <td>75.86</td>\n",
       "      <td>int64</td>\n",
       "    </tr>\n",
       "    <tr>\n",
       "      <th>42</th>\n",
       "      <td>policy_annual_premium</td>\n",
       "      <td>18</td>\n",
       "      <td>0.0</td>\n",
       "      <td>71.68</td>\n",
       "      <td>int64</td>\n",
       "    </tr>\n",
       "    <tr>\n",
       "      <th>11</th>\n",
       "      <td>authorities_contacted_police</td>\n",
       "      <td>2</td>\n",
       "      <td>0.0</td>\n",
       "      <td>70.51</td>\n",
       "      <td>int64</td>\n",
       "    </tr>\n",
       "    <tr>\n",
       "      <th>22</th>\n",
       "      <td>driver_relationship_self</td>\n",
       "      <td>2</td>\n",
       "      <td>0.0</td>\n",
       "      <td>68.36</td>\n",
       "      <td>int64</td>\n",
       "    </tr>\n",
       "    <tr>\n",
       "      <th>29</th>\n",
       "      <td>num_injuries</td>\n",
       "      <td>5</td>\n",
       "      <td>0.0</td>\n",
       "      <td>67.46</td>\n",
       "      <td>int64</td>\n",
       "    </tr>\n",
       "    <tr>\n",
       "      <th>7</th>\n",
       "      <td>customer_gender_female</td>\n",
       "      <td>2</td>\n",
       "      <td>0.0</td>\n",
       "      <td>62.76</td>\n",
       "      <td>int64</td>\n",
       "    </tr>\n",
       "    <tr>\n",
       "      <th>2</th>\n",
       "      <td>policy_state_ca</td>\n",
       "      <td>2</td>\n",
       "      <td>0.0</td>\n",
       "      <td>62.04</td>\n",
       "      <td>int64</td>\n",
       "    </tr>\n",
       "    <tr>\n",
       "      <th>9</th>\n",
       "      <td>customer_gender_male</td>\n",
       "      <td>2</td>\n",
       "      <td>0.0</td>\n",
       "      <td>57.65</td>\n",
       "      <td>int64</td>\n",
       "    </tr>\n",
       "    <tr>\n",
       "      <th>46</th>\n",
       "      <td>collision_type_front</td>\n",
       "      <td>2</td>\n",
       "      <td>0.0</td>\n",
       "      <td>57.46</td>\n",
       "      <td>int64</td>\n",
       "    </tr>\n",
       "    <tr>\n",
       "      <th>31</th>\n",
       "      <td>police_report_available</td>\n",
       "      <td>2</td>\n",
       "      <td>0.0</td>\n",
       "      <td>57.22</td>\n",
       "      <td>int64</td>\n",
       "    </tr>\n",
       "    <tr>\n",
       "      <th>4</th>\n",
       "      <td>num_witnesses</td>\n",
       "      <td>6</td>\n",
       "      <td>0.0</td>\n",
       "      <td>51.58</td>\n",
       "      <td>int64</td>\n",
       "    </tr>\n",
       "    <tr>\n",
       "      <th>26</th>\n",
       "      <td>num_vehicles_involved</td>\n",
       "      <td>7</td>\n",
       "      <td>0.0</td>\n",
       "      <td>46.32</td>\n",
       "      <td>int64</td>\n",
       "    </tr>\n",
       "    <tr>\n",
       "      <th>15</th>\n",
       "      <td>customer_education</td>\n",
       "      <td>5</td>\n",
       "      <td>0.0</td>\n",
       "      <td>44.29</td>\n",
       "      <td>int64</td>\n",
       "    </tr>\n",
       "    <tr>\n",
       "      <th>21</th>\n",
       "      <td>incident_severity</td>\n",
       "      <td>3</td>\n",
       "      <td>0.0</td>\n",
       "      <td>41.71</td>\n",
       "      <td>int64</td>\n",
       "    </tr>\n",
       "    <tr>\n",
       "      <th>30</th>\n",
       "      <td>policy_liability</td>\n",
       "      <td>4</td>\n",
       "      <td>0.0</td>\n",
       "      <td>33.95</td>\n",
       "      <td>int64</td>\n",
       "    </tr>\n",
       "    <tr>\n",
       "      <th>18</th>\n",
       "      <td>injury_claim</td>\n",
       "      <td>890</td>\n",
       "      <td>0.0</td>\n",
       "      <td>33.75</td>\n",
       "      <td>float64</td>\n",
       "    </tr>\n",
       "    <tr>\n",
       "      <th>19</th>\n",
       "      <td>incident_dow</td>\n",
       "      <td>7</td>\n",
       "      <td>0.0</td>\n",
       "      <td>16.87</td>\n",
       "      <td>int64</td>\n",
       "    </tr>\n",
       "    <tr>\n",
       "      <th>25</th>\n",
       "      <td>auto_year</td>\n",
       "      <td>20</td>\n",
       "      <td>0.0</td>\n",
       "      <td>13.86</td>\n",
       "      <td>int64</td>\n",
       "    </tr>\n",
       "    <tr>\n",
       "      <th>6</th>\n",
       "      <td>incident_month</td>\n",
       "      <td>12</td>\n",
       "      <td>0.0</td>\n",
       "      <td>10.67</td>\n",
       "      <td>int64</td>\n",
       "    </tr>\n",
       "    <tr>\n",
       "      <th>38</th>\n",
       "      <td>incident_hour</td>\n",
       "      <td>24</td>\n",
       "      <td>0.0</td>\n",
       "      <td>6.87</td>\n",
       "      <td>int64</td>\n",
       "    </tr>\n",
       "    <tr>\n",
       "      <th>12</th>\n",
       "      <td>incident_day</td>\n",
       "      <td>31</td>\n",
       "      <td>0.0</td>\n",
       "      <td>3.79</td>\n",
       "      <td>int64</td>\n",
       "    </tr>\n",
       "    <tr>\n",
       "      <th>14</th>\n",
       "      <td>customer_age</td>\n",
       "      <td>58</td>\n",
       "      <td>0.0</td>\n",
       "      <td>3.09</td>\n",
       "      <td>int64</td>\n",
       "    </tr>\n",
       "    <tr>\n",
       "      <th>39</th>\n",
       "      <td>vehicle_claim</td>\n",
       "      <td>4621</td>\n",
       "      <td>0.0</td>\n",
       "      <td>1.44</td>\n",
       "      <td>float64</td>\n",
       "    </tr>\n",
       "    <tr>\n",
       "      <th>10</th>\n",
       "      <td>total_claim_amount</td>\n",
       "      <td>4978</td>\n",
       "      <td>0.0</td>\n",
       "      <td>1.29</td>\n",
       "      <td>float64</td>\n",
       "    </tr>\n",
       "    <tr>\n",
       "      <th>24</th>\n",
       "      <td>months_as_customer</td>\n",
       "      <td>387</td>\n",
       "      <td>0.0</td>\n",
       "      <td>0.77</td>\n",
       "      <td>int64</td>\n",
       "    </tr>\n",
       "    <tr>\n",
       "      <th>0</th>\n",
       "      <td>policy_id</td>\n",
       "      <td>5000</td>\n",
       "      <td>0.0</td>\n",
       "      <td>0.02</td>\n",
       "      <td>int64</td>\n",
       "    </tr>\n",
       "  </tbody>\n",
       "</table>\n",
       "</div>"
      ],
      "text/plain": [
       "                            feature  unique_values  percent_missing  \\\n",
       "3                 policy_deductable              8              0.0   \n",
       "28  authorities_contacted_ambulance              2              0.0   \n",
       "37                  policy_state_id              2              0.0   \n",
       "35       authorities_contacted_fire              2              0.0   \n",
       "40                            fraud              2              0.0   \n",
       "36        driver_relationship_other              2              0.0   \n",
       "16        driver_relationship_child              2              0.0   \n",
       "27                  policy_state_nv              2              0.0   \n",
       "1               incident_type_theft              2              0.0   \n",
       "23             num_claims_past_year              8              0.0   \n",
       "5                   policy_state_or              2              0.0   \n",
       "17       driver_relationship_spouse              2              0.0   \n",
       "33            incident_type_breakin              2              0.0   \n",
       "43                  policy_state_az              2              0.0   \n",
       "44                  policy_state_wa              2              0.0   \n",
       "20                collision_type_na              2              0.0   \n",
       "32           driver_relationship_na              2              0.0   \n",
       "41          incident_type_collision              2              0.0   \n",
       "13              collision_type_side              2              0.0   \n",
       "45              collision_type_rear              2              0.0   \n",
       "8         num_insurers_past_5_years              5              0.0   \n",
       "34       authorities_contacted_none              2              0.0   \n",
       "42            policy_annual_premium             18              0.0   \n",
       "11     authorities_contacted_police              2              0.0   \n",
       "22         driver_relationship_self              2              0.0   \n",
       "29                     num_injuries              5              0.0   \n",
       "7            customer_gender_female              2              0.0   \n",
       "2                   policy_state_ca              2              0.0   \n",
       "9              customer_gender_male              2              0.0   \n",
       "46             collision_type_front              2              0.0   \n",
       "31          police_report_available              2              0.0   \n",
       "4                     num_witnesses              6              0.0   \n",
       "26            num_vehicles_involved              7              0.0   \n",
       "15               customer_education              5              0.0   \n",
       "21                incident_severity              3              0.0   \n",
       "30                 policy_liability              4              0.0   \n",
       "18                     injury_claim            890              0.0   \n",
       "19                     incident_dow              7              0.0   \n",
       "25                        auto_year             20              0.0   \n",
       "6                    incident_month             12              0.0   \n",
       "38                    incident_hour             24              0.0   \n",
       "12                     incident_day             31              0.0   \n",
       "14                     customer_age             58              0.0   \n",
       "39                    vehicle_claim           4621              0.0   \n",
       "10               total_claim_amount           4978              0.0   \n",
       "24               months_as_customer            387              0.0   \n",
       "0                         policy_id           5000              0.0   \n",
       "\n",
       "    percent_largest_category datatype  \n",
       "3                      98.94    int64  \n",
       "28                     97.45    int64  \n",
       "37                     97.27    int64  \n",
       "35                     97.20    int64  \n",
       "40                     97.00    int64  \n",
       "36                     96.06    int64  \n",
       "16                     95.49    int64  \n",
       "27                     95.23    int64  \n",
       "1                      95.18    int64  \n",
       "23                     93.28    int64  \n",
       "5                      93.00    int64  \n",
       "17                     91.09    int64  \n",
       "33                     90.54    int64  \n",
       "43                     88.64    int64  \n",
       "44                     87.90    int64  \n",
       "20                     85.72    int64  \n",
       "32                     85.72    int64  \n",
       "41                     85.72    int64  \n",
       "13                     78.91    int64  \n",
       "45                     77.91    int64  \n",
       "8                      77.68    int64  \n",
       "34                     75.86    int64  \n",
       "42                     71.68    int64  \n",
       "11                     70.51    int64  \n",
       "22                     68.36    int64  \n",
       "29                     67.46    int64  \n",
       "7                      62.76    int64  \n",
       "2                      62.04    int64  \n",
       "9                      57.65    int64  \n",
       "46                     57.46    int64  \n",
       "31                     57.22    int64  \n",
       "4                      51.58    int64  \n",
       "26                     46.32    int64  \n",
       "15                     44.29    int64  \n",
       "21                     41.71    int64  \n",
       "30                     33.95    int64  \n",
       "18                     33.75  float64  \n",
       "19                     16.87    int64  \n",
       "25                     13.86    int64  \n",
       "6                      10.67    int64  \n",
       "38                      6.87    int64  \n",
       "12                      3.79    int64  \n",
       "14                      3.09    int64  \n",
       "39                      1.44  float64  \n",
       "10                      1.29  float64  \n",
       "24                      0.77    int64  \n",
       "0                       0.02    int64  "
      ]
     },
     "execution_count": 18,
     "metadata": {},
     "output_type": "execute_result"
    }
   ],
   "source": [
    "combined_stats = []\n",
    "\n",
    "\n",
    "for col in df_combined.columns:\n",
    "    combined_stats.append(\n",
    "        (\n",
    "            col,\n",
    "            df_combined[col].nunique(),\n",
    "            df_combined[col].isnull().sum() * 100 / df_combined.shape[0],\n",
    "            df_combined[col].value_counts(normalize=True, dropna=False).values[0] * 100,\n",
    "            df_combined[col].dtype,\n",
    "        )\n",
    "    )\n",
    "\n",
    "stats_df = pd.DataFrame(\n",
    "    combined_stats,\n",
    "    columns=[\n",
    "        \"feature\",\n",
    "        \"unique_values\",\n",
    "        \"percent_missing\",\n",
    "        \"percent_largest_category\",\n",
    "        \"datatype\",\n",
    "    ],\n",
    ")\n",
    "stats_df.sort_values(\"percent_largest_category\", ascending=False)"
   ]
  },
  {
   "cell_type": "code",
   "execution_count": 19,
   "metadata": {
    "ExecuteTime": {
     "end_time": "2021-07-08T22:37:02.950208Z",
     "start_time": "2021-07-08T22:37:02.611738Z"
    }
   },
   "outputs": [
    {
     "name": "stderr",
     "output_type": "stream",
     "text": [
      "<ipython-input-19-eac7c0621a6c>:21: DeprecationWarning: `np.bool` is a deprecated alias for the builtin `bool`. To silence this warning, use `bool` by itself. Doing this will not modify any behavior and is safe. If you specifically wanted the numpy scalar type, use `np.bool_` here.\n",
      "Deprecated in NumPy 1.20; for more details and guidance: https://numpy.org/devdocs/release/1.20.0-notes.html#deprecations\n",
      "  mask = np.zeros_like(corr, dtype=np.bool)\n"
     ]
    },
    {
     "data": {
      "image/png": "[encoded data removed]",
      "text/plain": [
       "<Figure size 1080x1080 with 2 Axes>"
      ]
     },
     "metadata": {},
     "output_type": "display_data"
    }
   ],
   "source": [
    "import matplotlib.pyplot as plt\n",
    "import numpy as np\n",
    "\n",
    "sns.set_style(\"white\")\n",
    "\n",
    "corr_list = [\n",
    "    \"customer_age\",\n",
    "    \"months_as_customer\",\n",
    "    \"total_claim_amount\",\n",
    "    \"injury_claim\",\n",
    "    \"vehicle_claim\",\n",
    "    \"incident_severity\",\n",
    "    \"fraud\",\n",
    "]\n",
    "\n",
    "corr_df = df_combined[corr_list]\n",
    "corr = round(corr_df.corr(), 2)\n",
    "\n",
    "fix, ax = plt.subplots(figsize=(15, 15))\n",
    "\n",
    "mask = np.zeros_like(corr, dtype=np.bool)\n",
    "mask[np.triu_indices_from(mask)] = True\n",
    "\n",
    "ax = sns.heatmap(corr, mask=mask, ax=ax, annot=True, cmap=\"OrRd\")\n",
    "\n",
    "ax.set_xticklabels(ax.xaxis.get_ticklabels(), fontsize=10, ha=\"right\", rotation=45)\n",
    "ax.set_yticklabels(ax.yaxis.get_ticklabels(), fontsize=10, va=\"center\", rotation=0)\n",
    "\n",
    "plt.show()"
   ]
  },
  {
   "cell_type": "markdown",
   "metadata": {},
   "source": [
    "<a id ='nb0-architecture'> </a>\n",
    "\n",
    "## Solution Architecture\n",
    "[overview](#overview-0)\n",
    "\n",
    "We will go through 5 stages of ML and explore the solution architecture of SageMaker. Each of the sequancial notebooks will dive deep into corresponding ML stage."
   ]
  },
  {
   "cell_type": "markdown",
   "metadata": {},
   "source": [
    "<a id ='nb0-data-prep'> </a>\n",
    "\n",
    "### [Notebook 1](./1-data-prep-e2e.ipynb): Data Preparation, Ingest, Transform, Preprocess, and Store in SageMaker Feature Store\n",
    "[overview](#nb0-solution)\n",
    "\n",
    "![Solution Architecture](images/e2e-1-pipeline-v3b.png)\n",
    "\n"
   ]
  },
  {
   "cell_type": "markdown",
   "metadata": {},
   "source": [
    "<a id ='nb0-train-store'> </a>\n",
    "\n",
    "### [Notebook 2](./2-lineage-train-assess-bias-tune-registry-e2e.ipynb) and [Notebook 3](./3-mitigate-bias-train-model2-registry-e2e.ipynb) :   Train, Tune, Check Pre- and Post- Training Bias, Mitigate Bias, Re-train, and Deposit the Best Model to SageMaker Model Registry\n",
    "[overview](#nb0-solution)\n",
    "\n",
    "![Solution Architecture](images/e2e-2-pipeline-v3b.png)"
   ]
  },
  {
   "cell_type": "markdown",
   "metadata": {},
   "source": [
    "<a id ='nb0-deploy-predict'> </a>\n",
    "\n",
    "### [Notebooks 4](./4-deploy-run-inference-e2e.ipynb) :   Load the Best Model from Registry, Deploy it to SageMaker Hosted Endpoint, and Make Predictions\n",
    "[overview](#nb0-solution)\n",
    "\n",
    "![Solution Architecture](images/e2e-3-pipeline-v3b.png)"
   ]
  },
  {
   "cell_type": "markdown",
   "metadata": {},
   "source": [
    "<a id ='nb0-pipeline'> </a>\n",
    "\n",
    "### [Notebooks 5](./5-pipeline-e2e.ipynb): End-to-End Pipeline - MLOps Pipeline to run an end-to-end automated workflow with all the design decisions made during manual/exploratory steps in previous notebooks.\n",
    "[overview](#nb0-solution)   \n",
    "\n",
    "![Notebook5 Pipelines](images/e2e-5-pipeline-v3b.png)"
   ]
  },
  {
   "cell_type": "markdown",
   "metadata": {},
   "source": [
    "<a id ='nb0-code'> </a>\n",
    "\n",
    "## Code Resources\n",
    "\n",
    "[overview](#nb0-solution)"
   ]
  },
  {
   "cell_type": "markdown",
   "metadata": {},
   "source": [
    "### Stages\n",
    "\n",
    "Our solution is split into the following stages of the [ML Lifecycle](#nb0-ml-lifecycle), and each stage has it's own notebook:\n",
    "\n",
    "* [Use-case and Architecture](./0-AutoClaimFraudDetection.ipynb): We take a high-level look at the use-case, solution components and architecture.\n",
    "* [Data Prep and Store](./1-data-prep-e2e.ipynb): We prepare a dataset for machine learning using SageMaker DataWrangler, create and deposit the datasets in a SageMaker FeatureStore. [--> Architecture](#nb0-data-prep)\n",
    "* [Train, Assess Bias, Establish Lineage, Register Model](./2-lineage-train-assess-bias-tune-registry-e2e.ipynb): We detect possible pre-training and post-training bias, train and tune a XGBoost model using Amazon SageMaker, record Lineage in the Model Registry so we can later deploy it. [--> Architecture](#nb0-train-store)\n",
    "* [Mitigate Bias, Re-train, Register New Model](./3-mitigate-bias-train-model2-registry-e2e.ipynb): We mitigate bias, retrain a less biased model, store it in a Model Registry.  [--> Architecture](#nb0-train-store)\n",
    "* [Deploy and Serve](./4-deploy-run-inference-e2e.ipynb): We deploy the model to a Amazon SageMaker Hosted Endpoint and run realtime inference via the SageMaker Online Feature Store . [--> Architecture](#nb0-deploy-predict)\n",
    "* [Create and Run an MLOps Pipeline](./5-pipeline-e2e.ipynb): We then create a SageMaker Pipeline that ties together everything we have done so far, from outputs from Data Wrangler, Feature Store, Clarify , Model Registry and finally deployment to a SageMaker Hosted Endpoint. [--> Architecture](#nb0-pipeline)\n",
    "* [Conclusion](./6-conclusion-e2e.ipynb): We wrap things up and discuss how to clean up the solution."
   ]
  },
  {
   "cell_type": "markdown",
   "metadata": {},
   "source": [
    "<a id ='nb0-workflows'> </a>\n",
    "\n",
    "## The Exploratory Data Science and ML Ops Workflows\n",
    "\n",
    "[overview](#overview-0)\n",
    "\n",
    "### Exploratory Data Science and Scalable MLOps\n",
    "\n",
    "Note that there are typically two workflows: a manual exploratory workflow and an automated workflow. \n",
    "\n",
    "The *exploratory, manual data science workflow* is where experiments are conducted and various techniques and strategies are tested. \n",
    "\n",
    "After you have established your data prep, transformations, featurizations and training algorithms, testing of various hyperparameters for model tuning, you can start with the automated workflow where you *rely on MLOps or the ML Engineering part of your team* to streamline the process, make it more repeatable and scalable by putting it into an automated pipeline. \n",
    "\n",
    "![the 2 flows](images/2-flows.png)"
   ]
  },
  {
   "cell_type": "markdown",
   "metadata": {},
   "source": [
    "<a id ='nb0-ml-lifecycle'></a>\n",
    "\n",
    "## The ML Life Cycle: Detailed View\n",
    "[overview](#overview-0)"
   ]
  },
  {
   "cell_type": "markdown",
   "metadata": {},
   "source": [
    "![title](images/ML-Lifecycle-v5.png)\n",
    "\n",
    "The Red Boxes and Icons represent comparatively newer concepts and tasks that are now deemed important to include and execute, in a production-oriented (versus research-oriented) and scalable ML lifecycle.\n",
    "\n",
    " These newer lifecycle tasks and their corresponding, supporting AWS Services and features include:\n",
    "\n",
    "1. [*Data Wrangling*](): AWS Data Wrangler for cleaning, normalizing, transforming and encoding data, as well as join ing datasets. The outputs of Data Wrangler are code generated to work with SageMaker Processing, SageMaker Pipelines, SageMaker Feature Store or just a plain old python script with pandas,\n",
    "    1. Feature Engineering has always been done, but now with AWS Data Wrangler we can use a GUI based tool to do so and generate code for the next phases of the life-cycle.\n",
    "2. [*Detect Bias*](): Using AWS Clarify, in Data Prep or in Training we can detect pre-training and post-training bias, and eventually at Inference time provide Interpretability / Explainability of the inferences (e.g., which factors were most influential in coming up with the prediction)\n",
    "3. [*Feature Store [Offline]*](): Once we have done all of our feature engineering, the encoding and transformations, we can then standardize features, offline in AWS Feature Store, to be used as input features for training models.\n",
    "4. [*Artifact Lineage*](): Using AWS SageMaker’s Artifact Lineage features we can associate all the artifacts (data, models, parameters, etc.) with a trained model to produce meta data that can be stored in a Model Registry.\n",
    "5. [*Model Registry*](): AWS Model Registry stores the meta data around all artifacts that you have chosen to include in the process of creating your models, along with the model(s) themselves in a Model Registry. Later a human approval can be used to note that the model is good to be put into production. This feeds into the next phase of deploy and monitor .\n",
    "6. [*Inference and the Online Feature Store*](): For realtime inference, we can leverage a online AWS Feature Store we have created to get us single digit millisecond low latency and high throughput for serving our model with new incoming data.\n",
    "7. [*Pipelines*]():  Once we have experimented and decided on the various options in the lifecycle (which transforms to apply to our features, imbalance or bias in the data, which algorithms to choose to train with, which hyper-parameters are giving us the best performance metrics, etc.) we can now automate the various tasks across the lifecycle using SageMaker Pipelines. \n",
    "    1. In this blog, we will show a pipeline that starts with the outputs of AWS Data Wrangler and ends with storing trained models in the Model Registry. \n",
    "    2. Typically, you could have a pipeline for data prep, one for training until model registry (which we are showing in the code associated with this blog) , one for inference, and one for re-training using SageMaker Monitor to detect model drift and data drift and trigger a re-training using , say an AWS Lambda function.\n",
    "\n"
   ]
  },
  {
   "cell_type": "markdown",
   "metadata": {},
   "source": [
    "[overview](#overview-0)"
   ]
  },
  {
   "cell_type": "markdown",
   "metadata": {},
   "source": [
    "___\n",
    "\n",
    "### Next Notebook: [Data Preparation, Process, and Store Features](./1-data-prep-e2e.ipynb)"
   ]
  }
 ],
 "metadata": {
  "instance_type": "ml.t3.medium",
  "kernelspec": {
   "display_name": "Python 3",
   "language": "python",
   "name": "python3"
  },
  "language_info": {
   "codemirror_mode": {
    "name": "ipython",
    "version": 3
   },
   "file_extension": ".py",
   "mimetype": "text/x-python",
   "name": "python",
   "nbconvert_exporter": "python",
   "pygments_lexer": "ipython3",
   "version": "3.8.2"
  },
  "toc": {
   "base_numbering": 1,
   "nav_menu": {},
   "number_sections": true,
   "sideBar": true,
   "skip_h1_title": false,
   "title_cell": "Table of Contents",
   "title_sidebar": "Contents",
   "toc_cell": false,
   "toc_position": {},
   "toc_section_display": true,
   "toc_window_display": false
  }
 },
 "nbformat": 4,
 "nbformat_minor": 4
}
